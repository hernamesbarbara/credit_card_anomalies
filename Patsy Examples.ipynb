{
 "metadata": {
  "name": "Patsy Examples"
 },
 "nbformat": 3,
 "nbformat_minor": 0,
 "worksheets": [
  {
   "cells": [
    {
     "cell_type": "code",
     "collapsed": false,
     "input": [
      "import statsmodels.formula.api as sm\n",
      "import numpy as np\n",
      "import pandas as pd\n",
      "url = \"http://www.ats.ucla.edu/stat/mult_pkg/faq/general/lgtrans.csv\"\n",
      "data = pd.read_csv(url)\n",
      "model = \"write ~ C(female) + np.log(math) + np.log(read)\"\n",
      "test_scores = sm.ols(model, df=data).fit()\n",
      "print test_scores.summary()"
     ],
     "language": "python",
     "metadata": {},
     "outputs": [
      {
       "output_type": "stream",
       "stream": "stdout",
       "text": [
        "                            OLS Regression Results                            \n",
        "==============================================================================\n",
        "Dep. Variable:                  write   R-squared:                       0.530\n",
        "Model:                            OLS   Adj. R-squared:                  0.523\n",
        "Method:                 Least Squares   F-statistic:                     73.70\n",
        "Date:                Sun, 31 Mar 2013   Prob (F-statistic):           5.92e-32\n",
        "Time:                        19:29:04   Log-Likelihood:                -657.58\n",
        "No. Observations:                 200   AIC:                             1323.\n",
        "Df Residuals:                     196   BIC:                             1336.\n",
        "Df Model:                           3                                         \n",
        "=====================================================================================\n",
        "                        coef    std err          t      P>|t|      [95.0% Conf. Int.]\n",
        "-------------------------------------------------------------------------------------\n",
        "Intercept           -93.7752     10.766     -8.710      0.000      -115.007   -72.543\n",
        "C(female)[T.male]    -5.3888      0.931     -5.789      0.000        -7.224    -3.553\n",
        "np.log(math)         20.9410      3.431      6.104      0.000        14.175    27.707\n",
        "np.log(read)         16.8522      3.063      5.501      0.000        10.811    22.894\n",
        "==============================================================================\n",
        "Omnibus:                        2.259   Durbin-Watson:                   1.999\n",
        "Prob(Omnibus):                  0.323   Jarque-Bera (JB):                2.286\n",
        "Skew:                          -0.253   Prob(JB):                        0.319\n",
        "Kurtosis:                       2.866   Cond. No.                         135.\n",
        "==============================================================================\n"
       ]
      }
     ],
     "prompt_number": 3
    },
    {
     "cell_type": "code",
     "collapsed": false,
     "input": [
      "url = \"http://vincentarelbundock.github.com/Rdatasets/csv/HistData/Guerry.csv\"\n",
      "df = pd.read_csv(url)\n",
      "df = df[['Lottery', 'Literacy', 'Wealth', 'Region']].dropna()\n",
      "df.head()\n",
      "mod = sm.ols('Lottery ~ Literacy + Wealth + Region', df)\n",
      "res = mod.fit()\n",
      "print res.summary()\n"
     ],
     "language": "python",
     "metadata": {},
     "outputs": [
      {
       "output_type": "stream",
       "stream": "stdout",
       "text": [
        "                            OLS Regression Results                            \n",
        "==============================================================================\n",
        "Dep. Variable:                Lottery   R-squared:                       0.338\n",
        "Model:                            OLS   Adj. R-squared:                  0.287\n",
        "Method:                 Least Squares   F-statistic:                     6.636\n",
        "Date:                Sun, 31 Mar 2013   Prob (F-statistic):           1.07e-05\n",
        "Time:                        19:29:05   Log-Likelihood:                -375.30\n",
        "No. Observations:                  85   AIC:                             764.6\n",
        "Df Residuals:                      78   BIC:                             781.7\n",
        "Df Model:                           6                                         \n",
        "===============================================================================\n",
        "                  coef    std err          t      P>|t|      [95.0% Conf. Int.]\n",
        "-------------------------------------------------------------------------------\n",
        "Intercept      38.6517      9.456      4.087      0.000        19.826    57.478\n",
        "Region[T.E]   -15.4278      9.727     -1.586      0.117       -34.793     3.938\n",
        "Region[T.N]   -10.0170      9.260     -1.082      0.283       -28.453     8.419\n",
        "Region[T.S]    -4.5483      7.279     -0.625      0.534       -19.039     9.943\n",
        "Region[T.W]   -10.0913      7.196     -1.402      0.165       -24.418     4.235\n",
        "Literacy       -0.1858      0.210     -0.886      0.378        -0.603     0.232\n",
        "Wealth          0.4515      0.103      4.390      0.000         0.247     0.656\n",
        "==============================================================================\n",
        "Omnibus:                        3.049   Durbin-Watson:                   1.785\n",
        "Prob(Omnibus):                  0.218   Jarque-Bera (JB):                2.694\n",
        "Skew:                          -0.340   Prob(JB):                        0.260\n",
        "Kurtosis:                       2.454   Cond. No.                         371.\n",
        "==============================================================================\n"
       ]
      }
     ],
     "prompt_number": 4
    },
    {
     "cell_type": "code",
     "collapsed": false,
     "input": [],
     "language": "python",
     "metadata": {},
     "outputs": []
    }
   ],
   "metadata": {}
  }
 ]
}